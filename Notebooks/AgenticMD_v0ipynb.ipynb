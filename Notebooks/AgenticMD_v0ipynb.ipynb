{
  "cells": [
    {
      "cell_type": "code",
      "execution_count": null,
      "metadata": {
        "colab": {
          "base_uri": "https://localhost:8080/",
          "height": 1000
        },
        "id": "yoxbxjNbLEon",
        "outputId": "64b54ed4-9953-44ae-e7b0-27ed8841c615"
      },
      "outputs": [],
      "source": [
        "#For VSCODE\n",
        "#!pip install ipykernel\n",
        "#!pip install ipywidgets\n",
        "\n",
        "!pip install git+https://github.com/openai/swarm.git\n",
        "# !pip install openai==1.55.3\n",
        "# !pip install httpx==0.27.2\n",
        "!pip install --force-reinstall -v \"openai==1.55.3\"\n",
        "!pip install python-dotenv"
      ]
    },
    {
      "cell_type": "code",
      "execution_count": null,
      "metadata": {
        "id": "bqh2WG3-Lp2f"
      },
      "outputs": [],
      "source": [
        "import os\n",
        "# import httpx\n",
        "from swarm import Swarm, Agent\n",
        "from openai import OpenAI\n",
        "from IPython.display import display\n",
        "import ipywidgets as widgets\n",
        "import time\n",
        "import threading\n",
        "import json\n",
        "\n",
        "from pathlib import Path\n",
        "from dotenv import load_dotenv"
      ]
    },
    {
      "cell_type": "markdown",
      "metadata": {},
      "source": [
        "### OpenAI API Key Setup\n",
        "- Securely manages OpenAI API keys by first checking for a `.env` file or environment variables. \n",
        "- If no key is found, prompts user to input their API key and automatically creates a `.env` file. \n",
        "- This ensures the API key is stored securely and persists between sessions."
      ]
    },
    {
      "cell_type": "code",
      "execution_count": 11,
      "metadata": {},
      "outputs": [],
      "source": [
        "def get_openai_api_key() -> str:\n",
        "    env_path = Path('.env')\n",
        "    if env_path.exists():\n",
        "        load_dotenv(env_path)\n",
        "    \n",
        "    api_key = os.getenv('OPENAI_API_KEY')\n",
        "    \n",
        "    if not api_key:\n",
        "        print(\"OpenAI API key not found in .env or environment variables.\")\n",
        "        print(\"Please enter your OpenAI API key (get one from https://platform.openai.com/api-keys):\")\n",
        "        api_key = input()\n",
        "        \n",
        "        # Write the API key to .env file\n",
        "        with open(env_path, 'w') as f:\n",
        "            f.write(f'OPENAI_API_KEY={api_key}')\n",
        "        print(f\".env file created at {env_path.absolute()}\")\n",
        "    \n",
        "    # Debug: Show first 4 and last 4 chars of API key\n",
        "    # if api_key:\n",
        "    #     print(f\"API Key found: {api_key[:4]}...{api_key[-4:]}\")\n",
        "    \n",
        "    return api_key\n",
        "\n",
        "api_key = get_openai_api_key()\n",
        "api = OpenAI(api_key=api_key)"
      ]
    },
    {
      "cell_type": "markdown",
      "metadata": {
        "id": "XpVQoznF-v0N"
      },
      "source": [
        "# Swarm Setup"
      ]
    },
    {
      "cell_type": "code",
      "execution_count": 7,
      "metadata": {
        "id": "c7KzDwhn-yjI"
      },
      "outputs": [],
      "source": [
        "client = Swarm(api)"
      ]
    },
    {
      "cell_type": "code",
      "execution_count": 8,
      "metadata": {
        "colab": {
          "base_uri": "https://localhost:8080/"
        },
        "id": "i-Geh8io-1od",
        "outputId": "86186347-81ec-4809-a42a-b241390f8532"
      },
      "outputs": [
        {
          "name": "stdout",
          "output_type": "stream",
          "text": [
            "<swarm.core.Swarm object at 0x0000025DC5A2CC80>\n",
            "<openai.OpenAI object at 0x0000025DC3AF4A70>\n"
          ]
        }
      ],
      "source": [
        "print(client)\n",
        "print(api)"
      ]
    },
    {
      "cell_type": "markdown",
      "metadata": {
        "id": "xbXWtTGIMFUj"
      },
      "source": [
        "# Triage Agent"
      ]
    },
    {
      "cell_type": "markdown",
      "metadata": {
        "id": "M_BiVbG7Lzdh"
      },
      "source": [
        "# History Taking Agent"
      ]
    },
    {
      "cell_type": "code",
      "execution_count": 5,
      "metadata": {
        "id": "lFRsZP-x-fUs"
      },
      "outputs": [],
      "source": [
        "def handoff_to_medical_history_maker():\n",
        "    \"\"\"Hand off the OLDCART history from the history taking agent to the medical history maker.\"\"\"\n",
        "    return medical_history_maker_agent"
      ]
    },
    {
      "cell_type": "code",
      "execution_count": 6,
      "metadata": {
        "id": "7JwnfmOx-T3f"
      },
      "outputs": [],
      "source": [
        "history_taking_agent = Agent(\n",
        "    name=\"History Taking Agent\",\n",
        "    instructions=(\"\"\"\n",
        "    Relevance:\n",
        "    You are an expert medical assistant programmed to conduct detailed history-taking from patients presenting with medical complaints.\n",
        "    Your goal is to gather comprehensive and precise information to assist in clinical assessment.\n",
        "\n",
        "    Information:\n",
        "    Ask targeted, sequential questions to understand the patient's symptoms. Use the OLDCART framework to structure your output:\n",
        "\n",
        "    O: Onset\n",
        "    L: Location\n",
        "    D: Duration\n",
        "    C: Character\n",
        "    A: Aggravating factors\n",
        "    R: Relieving factors\n",
        "    T: Timing\n",
        "    Ensure all aspects are covered before concluding the history-taking.\n",
        "\n",
        "    Context:\n",
        "    You are interacting with a patient who presents with a symptom or complaint.\n",
        "    Based on their initial statement, refine your questions to explore each element of OLDCART systematically.\n",
        "\n",
        "    Constraints:\n",
        "    Be concise and avoid medical jargon that the patient may not understand.\n",
        "    Ensure all questions are respectful and maintain a conversational tone.\n",
        "    If the patient provides incomplete answers, prompt them with follow-up questions to clarify.\n",
        "\n",
        "    Examples:\n",
        "    Patient complaint: \"I have a burning sensation when I urinate.\"\n",
        "\n",
        "    Output in OLDCART format:\n",
        "\n",
        "    Onset: When did the burning sensation begin? (e.g., \"It started yesterday.\")\n",
        "    Location: Where exactly do you feel the burning sensation? (e.g., \"In the urinary tract.\")\n",
        "    Duration: How long does the burning sensation last? (e.g., \"Only while urinating.\")\n",
        "    Character: How would you describe the sensation? (e.g., \"It feels like burning pain.\")\n",
        "    Aggravating factors: Does anything make it worse? (e.g., \"Nothing specific.\")\n",
        "    Relieving factors: Does anything make it better? (e.g., \"Nothing helps.\")\n",
        "    Timing: Does the sensation occur all the time or intermittently? (e.g., \"Intermittently.\")\n",
        "    Task: Begin by asking an open-ended question like, \"What seems to be the problem today?\" Then, guide the conversation to gather the necessary information to fill out the OLDCART framework.\n",
        "    Return a patient's history\n",
        "    \"\"\"\n",
        "    ),\n",
        "    model = \"gpt-4o-mini\",\n",
        "    functions=[handoff_to_medical_history_maker],\n",
        ")"
      ]
    },
    {
      "cell_type": "code",
      "execution_count": 27,
      "metadata": {
        "id": "ThCqh66hCi9G"
      },
      "outputs": [],
      "source": [
        "\n",
        "def gather_history_with_OLDCART(agent, client):\n",
        "    # Extended OLDCART with severity and temporality\n",
        "    olcart_fields = {\n",
        "        \"onset\": \"When did you first notice these symptoms starting?\",\n",
        "        \"location\": \"Where exactly do you feel these symptoms?\",\n",
        "        \"duration\": \"How long have these symptoms been occurring?\",\n",
        "        \"character\": \"How would you describe these symptoms (e.g., sharp, dull, burning)?\",\n",
        "        \"aggravating factors\": \"What seems to make these symptoms worse?\",\n",
        "        \"relieving factors\": \"Have you found anything that helps relieve these symptoms?\",\n",
        "        \"timing\": \"Do these symptoms occur at a specific time or are they constant?\",\n",
        "        \"severity\": \"On a scale of 0 to 10, how severe are these symptoms?\",\n",
        "        \"temporality\": \"Would you describe these symptoms as constant or intermittent?\"\n",
        "    }\n",
        "\n",
        "    # Track completion status for each OLDCART field\n",
        "    olcart_fields_status = {field: False for field in olcart_fields.keys()}\n",
        "    # Store user responses in a dictionary for final formatting\n",
        "    olcart_responses = {field: None for field in olcart_fields.keys()}\n",
        "\n",
        "    def update_olcart_status(content):\n",
        "        # Simple logic: assign the current user input to the first unanswered field\n",
        "        for field in olcart_fields_status:\n",
        "            if not olcart_fields_status[field]:\n",
        "                olcart_fields_status[field] = True\n",
        "                olcart_responses[field] = content\n",
        "                break\n",
        "\n",
        "    # Initialize conversation structure\n",
        "    struct = []\n",
        "    initial_question = \"How are you feeling today? Can you describe any symptoms or sickness you are experiencing?\"\n",
        "    print(initial_question)\n",
        "    initial_response = input(\"Your response: \")\n",
        "    struct.append({\"role\": \"user\", \"content\": initial_response})\n",
        "\n",
        "    # Ask about each OLDCART field exactly once\n",
        "    for field, question in olcart_fields.items():\n",
        "        if not olcart_fields_status[field]:\n",
        "            # Prompt the agent for a question about this field\n",
        "            agent_prompt = (\n",
        "                f\"The patient has described their symptoms, but we need clarification about '{field}'. \"\n",
        "                \"Ask one concise question to gather this detail without repeating other fields.\"\n",
        "            )\n",
        "            struct.append({\"role\": \"system\", \"content\": agent_prompt})\n",
        "            response = client.run(agent=agent, messages=struct)\n",
        "            agent_response = response.messages[-1][\"content\"]\n",
        "\n",
        "            # Remove the system message to maintain a clean conversation flow\n",
        "            struct.pop()\n",
        "\n",
        "            print(agent_response)\n",
        "            user_input = input(\"Your response: \")\n",
        "            struct.append({\"role\": \"user\", \"content\": user_input})\n",
        "\n",
        "            # Update OLDCART fields with the user's answer\n",
        "            update_olcart_status(user_input)\n",
        "\n",
        "    # Once done, print and also store the OLDCART history\n",
        "    print(\"OLDCART history completed!\\n\")\n",
        "    print(\"Patient History (OLDCART + Severity and Temporality):\")\n",
        "    print(f\"Onset: {olcart_responses['onset']}\")\n",
        "    print(f\"Location: {olcart_responses['location']}\")\n",
        "    print(f\"Duration: {olcart_responses['duration']}\")\n",
        "    print(f\"Character: {olcart_responses['character']}\")\n",
        "    print(f\"Aggravating factors: {olcart_responses['aggravating factors']}\")\n",
        "    print(f\"Relieving factors: {olcart_responses['relieving factors']}\")\n",
        "    print(f\"Severity: {olcart_responses['severity']}\")\n",
        "    print(f\"Temporality <constant | intermittent>: {olcart_responses['temporality']}\")\n",
        "    print(f\"Timing: {olcart_responses['timing']}\\n\")\n",
        "\n",
        "    # Add a final assistant message with structured OLDCART data\n",
        "    final_olcart_data = {\n",
        "        \"onset\": olcart_responses[\"onset\"],\n",
        "        \"location\": olcart_responses[\"location\"],\n",
        "        \"duration\": olcart_responses[\"duration\"],\n",
        "        \"character\": olcart_responses[\"character\"],\n",
        "        \"aggravating factors\": olcart_responses[\"aggravating factors\"],\n",
        "        \"relieving factors\": olcart_responses[\"relieving factors\"],\n",
        "        \"severity\": olcart_responses[\"severity\"],\n",
        "        \"temporality\": olcart_responses[\"temporality\"],\n",
        "        \"timing\": olcart_responses[\"timing\"]\n",
        "    }\n",
        "\n",
        "    structured_message = {\n",
        "        \"role\": \"assistant\",\n",
        "        \"content\": json.dumps(final_olcart_data, indent=2)\n",
        "    }\n",
        "    struct.append(structured_message)\n",
        "\n",
        "    print(\"Conversation history:\")\n",
        "    for message in struct:\n",
        "        print(f\"{message['role'].capitalize()}: {message['content']}\")\n",
        "\n",
        "    return struct"
      ]
    },
    {
      "cell_type": "code",
      "execution_count": 28,
      "metadata": {
        "colab": {
          "base_uri": "https://localhost:8080/"
        },
        "id": "dmm3MthXCzNv",
        "outputId": "cd394161-4ceb-4217-a637-c64cd5fd127d"
      },
      "outputs": [
        {
          "name": "stdout",
          "output_type": "stream",
          "text": [
            "How are you feeling today? Can you describe any symptoms or sickness you are experiencing?\n",
            "Your response: i cant hear on my left ear\n",
            "When did you first notice the hearing loss in your left ear?\n",
            "Your response: 2 days ago\n",
            "Where exactly do you feel the issue in your left ear?\n",
            "Your response: inside my ear\n",
            "How long have you been experiencing this hearing loss in your left ear?\n",
            "Your response: 2 days\n",
            "How would you describe the hearing loss in your left ear? For example, does it feel muffled or like a complete loss of sound?\n",
            "Your response: muffled \n",
            "What makes the muffled hearing in your left ear worse?\n",
            "Your response: when i blow my nose or being near my cat\n",
            "What, if anything, makes the muffled feeling in your ear better?\n",
            "Your response: yawning\n",
            "Does the muffled feeling occur all the time, or does it come and go?\n",
            "Your response: all the time\n",
            "On a scale of 1 to 10, how severe would you say the muffled sensation in your ear is, with 10 being the worst?\n",
            "Your response: 8\n",
            "Can you describe if the muffled sensation is constant throughout the day or does it vary at different times?\n",
            "Your response: constant\n",
            "OLDCART history completed!\n",
            "\n",
            "Patient History (OLDCART + Severity and Temporality):\n",
            "Onset: 2 days ago\n",
            "Location: inside my ear\n",
            "Duration: 2 days\n",
            "Character: muffled \n",
            "Aggravating factors: when i blow my nose or being near my cat\n",
            "Relieving factors: yawning\n",
            "Severity: 8\n",
            "Temporality <constant | intermittent>: constant\n",
            "Timing: all the time\n",
            "\n",
            "Conversation history:\n",
            "User: i cant hear on my left ear\n",
            "User: 2 days ago\n",
            "User: inside my ear\n",
            "User: 2 days\n",
            "User: muffled \n",
            "User: when i blow my nose or being near my cat\n",
            "User: yawning\n",
            "User: all the time\n",
            "User: 8\n",
            "User: constant\n",
            "Assistant: {\n",
            "  \"onset\": \"2 days ago\",\n",
            "  \"location\": \"inside my ear\",\n",
            "  \"duration\": \"2 days\",\n",
            "  \"character\": \"muffled \",\n",
            "  \"aggravating factors\": \"when i blow my nose or being near my cat\",\n",
            "  \"relieving factors\": \"yawning\",\n",
            "  \"severity\": \"8\",\n",
            "  \"temporality\": \"constant\",\n",
            "  \"timing\": \"all the time\"\n",
            "}\n",
            "[{'role': 'user', 'content': 'i cant hear on my left ear'}, {'role': 'user', 'content': '2 days ago'}, {'role': 'user', 'content': 'inside my ear'}, {'role': 'user', 'content': '2 days'}, {'role': 'user', 'content': 'muffled '}, {'role': 'user', 'content': 'when i blow my nose or being near my cat'}, {'role': 'user', 'content': 'yawning'}, {'role': 'user', 'content': 'all the time'}, {'role': 'user', 'content': '8'}, {'role': 'user', 'content': 'constant'}, {'role': 'assistant', 'content': '{\\n  \"onset\": \"2 days ago\",\\n  \"location\": \"inside my ear\",\\n  \"duration\": \"2 days\",\\n  \"character\": \"muffled \",\\n  \"aggravating factors\": \"when i blow my nose or being near my cat\",\\n  \"relieving factors\": \"yawning\",\\n  \"severity\": \"8\",\\n  \"temporality\": \"constant\",\\n  \"timing\": \"all the time\"\\n}'}]\n"
          ]
        }
      ],
      "source": [
        "# Example usage\n",
        "gathered_data = gather_history_with_OLDCART(agent=history_taking_agent, client=client)\n",
        "print(gathered_data)"
      ]
    },
    {
      "cell_type": "code",
      "execution_count": 31,
      "metadata": {
        "colab": {
          "base_uri": "https://localhost:8080/"
        },
        "id": "RupvK4Km351C",
        "outputId": "31a24540-8066-4d6e-f864-50d00e930e51"
      },
      "outputs": [
        {
          "data": {
            "text/plain": [
              "[{'role': 'user', 'content': 'i cant hear on my left ear'},\n",
              " {'role': 'user', 'content': '2 days ago'},\n",
              " {'role': 'user', 'content': 'inside my ear'},\n",
              " {'role': 'user', 'content': '2 days'},\n",
              " {'role': 'user', 'content': 'muffled '},\n",
              " {'role': 'user', 'content': 'when i blow my nose or being near my cat'},\n",
              " {'role': 'user', 'content': 'yawning'},\n",
              " {'role': 'user', 'content': 'all the time'},\n",
              " {'role': 'user', 'content': '8'},\n",
              " {'role': 'user', 'content': 'constant'},\n",
              " {'role': 'assistant',\n",
              "  'content': '{\\n  \"onset\": \"2 days ago\",\\n  \"location\": \"inside my ear\",\\n  \"duration\": \"2 days\",\\n  \"character\": \"muffled \",\\n  \"aggravating factors\": \"when i blow my nose or being near my cat\",\\n  \"relieving factors\": \"yawning\",\\n  \"severity\": \"8\",\\n  \"temporality\": \"constant\",\\n  \"timing\": \"all the time\"\\n}'}]"
            ]
          },
          "execution_count": 31,
          "metadata": {},
          "output_type": "execute_result"
        }
      ],
      "source": [
        "gathered_data"
      ]
    },
    {
      "cell_type": "markdown",
      "metadata": {
        "id": "t_MoDpOQMBdb"
      },
      "source": [
        "# Medical History Maker Agent"
      ]
    },
    {
      "cell_type": "code",
      "execution_count": 19,
      "metadata": {
        "id": "4__tONVNISbw"
      },
      "outputs": [],
      "source": [
        "def handoff_to_assessment_agent():\n",
        "    \"\"\"Hand off the Patient Medical history to the Assessment Agent who will identify differentials diagnosis.\"\"\"\n",
        "    return assessment_agent"
      ]
    },
    {
      "cell_type": "code",
      "execution_count": 20,
      "metadata": {
        "id": "NNtrMPjXG0Z0"
      },
      "outputs": [],
      "source": [
        "medical_history_maker_agent = Agent(\n",
        "    name=\"Medical History Making Agent\",\n",
        "    instructions=(\"\"\"\n",
        "R (Role):\n",
        "You are an expert emergency room doctor, a specialized medical assistant designed to collect and synthesize a patient’s symptom history using the OLDCARTS framework. Your purpose is to engage with a patient or provided data and produce a structured, medically coherent narrative that a healthcare professional can quickly review and understand.\n",
        "\n",
        "I (Input):\n",
        "You will receive some initial patient input describing symptoms and possibly partial OLDCARTS details. The patient may have already described one or more components of OLDCARTS (Onset, Location, Duration, Character, Aggravating factors, Relieving factors, Timing, Severity, Temporality). After you gather this initial data, you should identify what is missing and only ask for the outstanding details. If certain critical points remain ambiguous or incomplete after the patient’s responses, you may ask up to three brief clarifying questions. Once all necessary information is collected, you will finalize the patient’s history, incorporating all OLDCARTS elements into a single coherent narrative.\n",
        "\n",
        "C (Context):\n",
        "You are operating in a medical context, providing a tool for clinicians. The final output is intended for a clinical audience—medical professionals who want a clear, concise, and logically organized summary of the patient’s presenting problem. The patient’s details may vary: they could be vague or specific, and they may or may not spontaneously provide all necessary OLDCARTS information. You have the ability to ask questions, but you must be mindful to ask only the minimal number of questions needed.\n",
        "\n",
        "C (Constraints):\n",
        "Completeness of OLDCARTS: Ensure that you have collected Onset, Location, Duration, Character, Aggravating factors, Relieving factors, Timing, Severity, and Temporality.\n",
        "Minimal Questioning: Only ask about fields that have not been clearly answered. Avoid re-asking for details already provided by the patient.\n",
        "Limited Clarification: If critical details are unclear after initial questioning, ask no more than three additional clarifying questions. If still unclear, finalize the history with the best available data.\n",
        "Professional Tone: The final narrative should be neutral, professional, and medically appropriate. Use standard clinical language understandable to healthcare providers.\n",
        "Concise but Complete: The final output should be a well-structured paragraph (or short set of paragraphs) summarizing the chief complaint and the details collected through the OLDCARTS framework. Do not merely list the data points; integrate them into a coherent, narrative-style History of Present Illness (HPI).\n",
        "No Speculation: Base the summary only on the information provided by the patient. Do not add unverified assumptions.\n",
        "\n",
        "E (Evaluation):\n",
        "Your output is successful if it:\n",
        "Reflects a clearly identified chief complaint.\n",
        "Incorporates all OLDCARTS elements, provided or elicited, in a coherent narrative.\n",
        "Requires no further clarification from a clinical perspective, or if still ambiguous, has made a good faith effort to clarify and then presented the best possible summary.\n",
        "Is well-organized, logically consistent, and easy for a clinician to read quickly.\n",
        "Uses a factual, neutral tone without extraneous details or speculation.\n",
        "\n",
        "Sample output could look something like the following:\n",
        "\n",
        "Patient History:\n",
        "Chief Complaint: The patient, a 35-year-old female, presents with a severe burning pain during urination.\n",
        "History of Present Illness: The patient reports that the symptoms began less than one day ago. She describes the pain as a burning sensation localized to the urinary tract, occurring only during urination. The pain is intermittent, with episodes of intense discomfort rated 9 out of 10 in severity. There are no known aggravating or relieving factors.\n",
        "Additional Information:\n",
        "Past Medical History: The patient has no significant past medical history.\n",
        "Medications: She is not currently taking any medications.\n",
        "Allergies: The patient has no known allergies.\n",
        "Social History: She is a non-smoker and consumes alcohol occasionally.\n",
        "Family History: There is no family history of urinary tract infections.\n",
        "\n",
        "    \"\"\"\n",
        "    ),\n",
        "    model = \"gpt-4o-mini\",\n",
        "    functions=[handoff_to_assessment_agent],\n",
        ")"
      ]
    },
    {
      "cell_type": "code",
      "execution_count": 32,
      "metadata": {
        "colab": {
          "base_uri": "https://localhost:8080/"
        },
        "id": "a-m40JDjJujW",
        "outputId": "2e9dfc7c-f391-4fdb-d3c0-5d4989e880e9"
      },
      "outputs": [
        {
          "name": "stdout",
          "output_type": "stream",
          "text": [
            "**Patient History:**\n",
            "\n",
            "**Chief Complaint:** The patient, a currently unspecified individual, presents with a complaint of hearing loss in the left ear.\n",
            "\n",
            "**History of Present Illness:** The patient reports that the symptoms began 2 days ago, describing the sensation as a muffled sound localized to the inside of the left ear. The hearing loss has persisted constantly over this duration, with a severity rating of 8 out of 10. The patient notes that the symptoms are aggravated by actions such as blowing the nose or being near their cat, while yawning provides some relief. \n",
            "\n",
            "No additional information regarding past medical history, medications, allergies, social or family history has been provided. \n",
            "\n",
            "Would you like me to proceed with further assessment?\n"
          ]
        }
      ],
      "source": [
        "response = client.run(agent=medical_history_maker_agent, messages=gathered_data)\n",
        "print(response.messages[0][\"content\"])"
      ]
    },
    {
      "cell_type": "markdown",
      "metadata": {
        "id": "YoDRzERW2DL4"
      },
      "source": [
        "TODO: fix hallucination if we need more info from patient"
      ]
    },
    {
      "cell_type": "markdown",
      "metadata": {
        "id": "TXQoG8kzMJa2"
      },
      "source": [
        "# Assessment Agent"
      ]
    },
    {
      "cell_type": "code",
      "execution_count": 23,
      "metadata": {
        "id": "ErNMBAJF2XJt"
      },
      "outputs": [],
      "source": [
        "def handoff_to_treatment_agent():\n",
        "    \"\"\"Hand off the Treatment Agent who will suggest treatment based on the diagnosis of the patient.\"\"\"\n",
        "    return treatment_agent"
      ]
    },
    {
      "cell_type": "code",
      "execution_count": 24,
      "metadata": {
        "id": "9n6MfYaCCiGa"
      },
      "outputs": [],
      "source": [
        "assessment_agent = Agent(\n",
        "    name=\"Assessment Agent\",\n",
        "    instructions=(\"\"\"\n",
        "R (Role):\n",
        "You are the Assessment Agent, a medical reasoning assistant trained to analyze patient histories and suggest potential diagnoses or differential diagnoses. Your purpose is to synthesize provided clinical information into a medically sound, prioritized list of possible conditions based on likelihood and relevance.\n",
        "\n",
        "I (Input):\n",
        "You will receive a detailed patient history, including symptoms, onset, location, duration, character, aggravating factors, relieving factors, timing, severity, temporality (OLDCARTS), as well as any additional pertinent medical details (past medical history, medications, allergies, social history, family history).\n",
        "Your input may also include the patient’s demographic information such as age, sex, and relevant lifestyle factors.\n",
        "\n",
        "C (Context):\n",
        "The Assessment Agent operates within a clinical reasoning framework. Your output is intended for healthcare professionals who will use this information to guide further diagnostic workup. The patient history provided should be considered as raw input data. You should generate a list of likely differential diagnoses that best fit the provided clinical picture. If uncertain, you may highlight areas where more information would be helpful, but still provide a reasoned differential based on the available data.\n",
        "\n",
        "C (Constraints):\n",
        "\n",
        "Clinical Accuracy: Ground your reasoning in standard medical knowledge and common clinical reasoning patterns. Avoid purely speculative diagnoses unsupported by the details provided.\n",
        "Prioritization: Rank or highlight the most likely diagnoses first, explaining briefly why they are plausible given the patient’s presentation. Less likely possibilities can be mentioned subsequently.\n",
        "Clarity & Brevity: Present the differentials in a concise, organized manner. Include a short rationale for each primary option.\n",
        "Non-Definitive: Do not provide a definitive diagnosis. Instead, present a range of reasonable considerations. It’s acceptable to mention that further tests or information would be needed to refine the assessment.\n",
        "No Patient Management Instructions: Focus on the diagnostic reasoning aspect. Do not provide treatment plans or management suggestions. Only discuss likely or possible diagnoses.\n",
        "E (Evaluation):\n",
        "Your output is successful if it:\n",
        "\n",
        "Reflects a sound clinical reasoning process.\n",
        "Lists likely differential diagnoses in an organized and prioritized fashion.\n",
        "Uses medically appropriate terminology and is understandable by healthcare professionals.\n",
        "Remains within the information provided and avoids unfounded speculation.\n",
        "Is concise, coherent, and sufficiently explanatory to justify the presence of each suggested diagnosis.\n",
        "    \"\"\"\n",
        "    ),\n",
        "    model = \"gpt-4o-mini\",\n",
        "    functions=[handoff_to_assessment_agent],\n",
        ")"
      ]
    },
    {
      "cell_type": "code",
      "execution_count": 33,
      "metadata": {
        "colab": {
          "base_uri": "https://localhost:8080/"
        },
        "id": "NlRNlAeK3TdO",
        "outputId": "04cc185b-ce54-479e-fed4-7be1b26aebaa"
      },
      "outputs": [
        {
          "name": "stdout",
          "output_type": "stream",
          "text": [
            "Assessment Agent Output:\n",
            " Based on the provided OLDCARTS history, here are the likely differential diagnoses:\n",
            "\n",
            "1. **Eustachian Tube Dysfunction**:\n",
            "   - **Rationale**: The patient reports muffled hearing that worsens with actions like blowing the nose, suggesting an obstruction or dysfunction in the eustachian tube. Yawning relieving the symptoms also supports this diagnosis, as yawning can help equalize pressure in the ear.\n",
            "\n",
            "2. **Otitis Media**:\n",
            "   - **Rationale**: Given the severity (8/10) and nature (muffled) of the symptoms, a middle ear infection may be present. This condition often follows upper respiratory tract infections, leading to fluid accumulation and muffled hearing.\n",
            "\n",
            "3. **Allergic Rhinitis or Otitis Media with Effusion**:\n",
            "   - **Rationale**: The aggravation of symptoms when near the cat suggests a possible allergic component. Allergies can lead to fluid buildup in the middle ear (otitis media with effusion), resulting in muffled hearing.\n",
            "\n",
            "4. **Cerumen Impaction**:\n",
            "   - **Rationale**: Muffled hearing can also be caused by impacted ear wax. However, since aggravated factors involve nasal blowing and being around the cat, this is less likely compared to the first three.\n",
            "\n",
            "5. **Outer Ear Infection (Otitis Externa)**:\n",
            "   - **Rationale**: While typically associated with pain, an outer ear infection could also cause muffled hearing. However, the constant nature and specific triggers do not strongly support this diagnosis.\n",
            "\n",
            "Further information about any recent upper respiratory infections, history of allergies, or other associated symptoms could help refine these differential diagnoses.\n"
          ]
        }
      ],
      "source": [
        "# usage\n",
        "\n",
        "# Step 1: Gather OLDCART History from User via History Taking Agent\n",
        "# gathered_data = gather_history_with_OLDCART(agent=history_taking_agent, client=client)\n",
        "\n",
        "# The `gathered_data` structure now contains a series of messages between user and the agent.\n",
        "# The last message should be the assistant message containing the OLDCART data in JSON.\n",
        "final_olcart_data_str = None\n",
        "for msg in reversed(gathered_data):\n",
        "    if msg[\"role\"] == \"assistant\":\n",
        "        # Attempt to parse the content as JSON\n",
        "        try:\n",
        "            olcart_data = json.loads(msg[\"content\"])\n",
        "            final_olcart_data_str = msg[\"content\"]  # Keep the raw JSON string to pass along\n",
        "            break\n",
        "        except json.JSONDecodeError:\n",
        "            # Not the structured OLDCART data, move on\n",
        "            continue\n",
        "\n",
        "if not final_olcart_data_str:\n",
        "    raise ValueError(\"No structured OLDCART data found in the conversation.\")\n",
        "\n",
        "# Step 2: Assess the Patient's History Using the Assessment Agent\n",
        "# Now we take the structured OLDCART data and pass it to the assessment agent\n",
        "assessment_messages = [\n",
        "    {\n",
        "        \"role\": \"system\",\n",
        "        \"content\": (\n",
        "            \"You are the Assessment Agent. Given the patient's OLDCARTS history data, \"\n",
        "            \"propose a list of possible differential diagnoses, in order of likelihood, \"\n",
        "            \"with brief rationales for each. Do not provide a definitive diagnosis. \"\n",
        "            \"If information is missing or ambiguous, note it, but do your best with the given data.\"\n",
        "        )\n",
        "    },\n",
        "    {\n",
        "        \"role\": \"user\",\n",
        "        \"content\": final_olcart_data_str  # The JSON string from the history-taking step\n",
        "    }\n",
        "]\n",
        "\n",
        "assessment_response = client.run(agent=assessment_agent, messages=assessment_messages)\n",
        "assessment_output = assessment_response.messages[-1][\"content\"]\n",
        "print(\"Assessment Agent Output:\\n\", assessment_output)\n",
        "\n",
        "# The assessment_output should contain a list of differential diagnoses in some textual format.\n",
        "# For better downstream usage, you might want the assessment agent to return a structured format (JSON),\n",
        "# but here we assume it returns a readable text format.\n",
        "\n",
        "# Step 3: Use the Treatment Agent to Suggest Next Steps Based on Differentials\n",
        "# treatment_messages = [\n",
        "#     {\n",
        "#         \"role\": \"system\",\n",
        "#         \"content\": (\n",
        "#             \"You are the Treatment Agent. Given the differential diagnoses provided, \"\n",
        "#             \"suggest appropriate next steps, which could include further diagnostic testing, \"\n",
        "#             \"initial management, or specialist referrals. Do not finalize a single diagnosis, \"\n",
        "#             \"but guide the next reasonable clinical steps.\"\n",
        "#         )\n",
        "#     },\n",
        "#     {\n",
        "#         \"role\": \"user\",\n",
        "#         \"content\": assessment_output  # The text output from the assessment agent\n",
        "#     }\n",
        "# ]\n",
        "\n",
        "# treatment_response = client.run(agent=treatment_agent, messages=treatment_messages)\n",
        "# treatment_output = treatment_response.messages[-1][\"content\"]\n",
        "# print(\"Treatment Agent Output:\\n\", treatment_output)\n",
        "\n",
        "# At this point, you have:\n",
        "# - A structured OLDCART history from the first agent\n",
        "# - A set of possible differentials from the second agent\n",
        "# - Suggested next steps from the treatment agent\n",
        "\n",
        "# This completes the pipeline of connecting the three agents together.\n"
      ]
    },
    {
      "cell_type": "code",
      "execution_count": 34,
      "metadata": {
        "id": "C8Oteami6PXB"
      },
      "outputs": [],
      "source": [
        "def run_assessment_phase(gathered_data, assessment_agent, client):\n",
        "    # Extract the final OLDCART JSON data from the gathered_data\n",
        "    final_olcart_data_str = None\n",
        "    for msg in reversed(gathered_data):\n",
        "        if msg[\"role\"] == \"assistant\":\n",
        "            try:\n",
        "                # Attempt to parse the assistant message content as JSON\n",
        "                json.loads(msg[\"content\"])\n",
        "                final_olcart_data_str = msg[\"content\"]\n",
        "                break\n",
        "            except json.JSONDecodeError:\n",
        "                # Not structured OLDCART data, continue searching\n",
        "                continue\n",
        "\n",
        "    if not final_olcart_data_str:\n",
        "        raise ValueError(\"No structured OLDCART data found in the conversation.\")\n",
        "\n",
        "    # Define the messages for the assessment agent\n",
        "    assessment_messages = [\n",
        "        {\n",
        "            \"role\": \"system\",\n",
        "            \"content\": (\n",
        "                \"You are the Doctor, Medical Assessment Agent. Given the patient's OLDCARTS history data, \"\n",
        "                \"propose a list of possible differential diagnoses, in order of likelihood, \"\n",
        "                \"with brief rationales for each. Do not provide a definitive diagnosis. \"\n",
        "                \"If information is missing or ambiguous, note it, but do your best with the given data.\"\n",
        "            )\n",
        "        },\n",
        "        {\n",
        "            \"role\": \"user\",\n",
        "            \"content\": final_olcart_data_str\n",
        "        }\n",
        "    ]\n",
        "\n",
        "    # Run the assessment agent\n",
        "    assessment_response = client.run(agent=assessment_agent, messages=assessment_messages)\n",
        "    assessment_output = assessment_response.messages[-1][\"content\"]\n",
        "    print(\"Assessment Agent Output:\\n\", assessment_output)\n",
        "\n",
        "    return assessment_output"
      ]
    },
    {
      "cell_type": "code",
      "execution_count": 35,
      "metadata": {
        "colab": {
          "base_uri": "https://localhost:8080/"
        },
        "id": "bKgM46q96YUm",
        "outputId": "e7cb729d-59fd-4333-ab7c-3e4899280683"
      },
      "outputs": [
        {
          "name": "stdout",
          "output_type": "stream",
          "text": [
            "Assessment Agent Output:\n",
            " Based on the provided OLDCARTS history, here is a prioritized list of possible differential diagnoses with brief rationales:\n",
            "\n",
            "1. **Eustachian Tube Dysfunction**:\n",
            "   - Rationale: The symptoms of muffled hearing and aggravation with nose blowing suggest that the Eustachian tube may be blocked or not functioning properly, which can cause pressure changes and muffled hearing. The constant nature and severity (8 out of 10) align with this condition.\n",
            "\n",
            "2. **Earwax Impaction (Cerumen Impaction)**:\n",
            "   - Rationale: The description of muffled hearing could be consistent with earwax blocking the ear canal. This could also explain the discomfort when near an allergen (the cat), as allergens can influence earwax production and sensation.\n",
            "\n",
            "3. **Middle Ear Infection (Otitis Media)**:\n",
            "   - Rationale: This could cause similar symptoms, such as muffled hearing and pain/discomfort, although the absence of pain or fever makes it less likely. The duration of symptoms supports the consideration.\n",
            "\n",
            "4. **Allergic Rhinitis**:\n",
            "   - Rationale: Given that symptoms are aggravated by being near a cat, this suggests a possible allergic component affecting the ears through the Eustachian tube or causing nasal obstruction, thereby leading to muffled hearing.\n",
            "\n",
            "5. **Acute Sinusitis**:\n",
            "   - Rationale: If there is associated nasal congestion from blowing the nose, sinusitis could affect the Eustachian tube function, leading to muffled hearing. However, more specific symptoms accompanying sinusitis would further clarify this diagnosis.\n",
            "\n",
            "6. **Barotrauma**:\n",
            "   - Rationale: If there has been any recent change in altitude or rapid pressure change experienced, barotrauma could also be considered, but this typically has a more specific triggering event.\n",
            "\n",
            "Areas where further information would be helpful include any history of prior ear infections, recent upper respiratory infections, any associated nasal symptoms (such as congestion or discharge), and any prior issues with allergies or ear problems.\n"
          ]
        }
      ],
      "source": [
        "# Example usage:\n",
        "# gathered_data = gather_history_with_OLDCART(agent=history_taking_agent, client=client)\n",
        "assessment_output = run_assessment_phase(gathered_data, assessment_agent, client)\n",
        "# assessment_output now contains the differential diagnoses from the Assessment Agent\n"
      ]
    },
    {
      "cell_type": "markdown",
      "metadata": {
        "id": "BPlPvBQpMNe8"
      },
      "source": [
        "# Treatment Agent"
      ]
    },
    {
      "cell_type": "code",
      "execution_count": 36,
      "metadata": {
        "id": "HY0an7s862BY"
      },
      "outputs": [],
      "source": [
        "def handoff_to_medication_agent():\n",
        "    \"\"\"Hand off the Medication List Agent, a RAG model who will suggest what meds to take based on the assessment of the patient.\"\"\"\n",
        "    return medication_agent"
      ]
    },
    {
      "cell_type": "code",
      "execution_count": 37,
      "metadata": {
        "id": "WuHzckDF7D7i"
      },
      "outputs": [],
      "source": [
        "treatment_agent = Agent(\n",
        "    name=\"Treatment Agent\",\n",
        "    instructions=(\"\"\"\n",
        "R (Role):\n",
        "You are the Treatment Agent, acting in the role of a medical doctor. Your task is to recommend appropriate next steps in patient management based on the differential diagnoses provided.\n",
        "\n",
        "I (Input):\n",
        "You will be given the assessment results from the Assessment Agent, which detail a list of possible differential diagnoses and their rationales. You must use this information to guide initial management and clinical decision-making.\n",
        "\n",
        "C (Context):\n",
        "The context is a clinical environment where a patient has presented with certain symptoms and an Assessment Agent has provided a set of likely differential diagnoses. Your job is not to definitively diagnose the patient but to offer reasonable, evidence-based next steps that a physician might take to clarify, evaluate, or manage the patient’s condition. These steps might include ordering specific tests, recommending conservative management measures, or suggesting referrals to specialists if appropriate.\n",
        "\n",
        "C (Constraints):\n",
        "\n",
        "Evidence-Based and Safe: Provide standard-of-care, reasonable steps without overreaching.\n",
        "No Definitive Diagnosis: Do not finalize a single, definitive diagnosis; maintain the differential nature.\n",
        "Focus on Next Steps: Suggest further diagnostic tests, physical exams, initial treatments, lifestyle modifications, or referrals as would be appropriate in a clinical setting.\n",
        "Acknowledge Uncertainty: If certain information is missing, note what would be helpful to obtain next.\n",
        "Concise and Professional: Keep the guidance straightforward, actionable, and medically appropriate.\n",
        "E (Evaluation):\n",
        "Your output is successful if it:\n",
        "\n",
        "Reflects a clear, clinically logical set of next steps.\n",
        "Aligns with standard medical reasoning and patient care pathways.\n",
        "Avoids speculation beyond the provided differentials.\n",
        "Offers a concise, clinically relevant plan that another medical professional would find helpful.\n",
        "\n",
        "    \"\"\"\n",
        "    ),\n",
        "    model = \"gpt-4o-mini\",\n",
        "    functions=[handoff_to_medication_agent],\n",
        ")"
      ]
    },
    {
      "cell_type": "code",
      "execution_count": 38,
      "metadata": {
        "colab": {
          "base_uri": "https://localhost:8080/"
        },
        "id": "xwFPCopW7aZl",
        "outputId": "d77fb4ee-8601-448a-a0f2-467ce3b6dbc3"
      },
      "outputs": [
        {
          "name": "stdout",
          "output_type": "stream",
          "text": [
            "Treatment Agent Output:\n",
            " Based on the differential diagnoses provided, here are the recommended next steps for patient management:\n",
            "\n",
            "1. **Ear Examination**:\n",
            "   - Perform an otoscopic examination to check for signs of earwax impaction, middle ear infection (e.g., tympanic membrane redness, bulging), or any other abnormalities in the ear canal or ear drum.\n",
            "\n",
            "2. **Audiometric Testing**:\n",
            "   - If initial examination does not reveal obvious causes, consider arranging for an audiogram to evaluate the extent of hearing loss and determine if it corresponds with Eustachian tube dysfunction or other auditory conditions.\n",
            "\n",
            "3. **Nasal Examination**:\n",
            "   - Assess for nasal congestion or discharge that could indicate allergic rhinitis or acute sinusitis. This can include a physical examination of the nasal passages.\n",
            "\n",
            "4. **Allergy Testing**:\n",
            "   - If allergic rhinitis is suspected, consider skin prick testing or specific IgE testing for common allergens, including cat dander, to confirm the allergy.\n",
            "\n",
            "5. **Patient Education**:\n",
            "   - Advise the patient on techniques to equalize ear pressure, such as the Valsalva maneuver, and educate them about avoiding allergens if allergic rhinitis is confirmed.\n",
            "\n",
            "6. **Management of Symptoms**:\n",
            "   - If Eustachian tube dysfunction is suspected but not confirmed, consider recommending a nasal steroid spray or oral antihistamines to alleviate any allergic symptoms and improve Eustachian tube function.\n",
            "   - If earwax impaction is confirmed, plan for safe removal either by the physician or refer to an audiologist or ENT specialist for removal if necessary.\n",
            "\n",
            "7. **Follow-Up**:\n",
            "   - Schedule a follow-up appointment to reassess symptoms after initiating any treatment, particularly if no obvious findings are observed initially. Ensure that the patient knows to return sooner if their symptoms worsen or remain unchanged.\n",
            "\n",
            "8. **Further Imaging**:\n",
            "   - If sinusitis is suspected and conservative measures do not help, consider imaging, such as a CT scan of the sinuses, to evaluate for chronic sinus disease.\n",
            "\n",
            "Overall, it would be helpful to gather additional information from the patient regarding their complete medical history, particularly regarding prior ear or sinus issues, any recent infections, and detailed allergy history to tailor the approach based on specific findings.\n"
          ]
        }
      ],
      "source": [
        "# Step 3: Use the Treatment Agent with the Assessment Output\n",
        "treatment_messages = [\n",
        "    {\n",
        "        \"role\": \"system\",\n",
        "        \"content\": (\n",
        "            \"You are the Treatment Agent, acting as a medical doctor. \"\n",
        "            \"Given the patient's differential diagnoses from the Assessment Agent, \"\n",
        "            \"propose initial next steps or management strategies. \"\n",
        "            \"These could include further testing, conservative treatments, referrals, \"\n",
        "            \"or suggestions for additional information needed.\"\n",
        "        )\n",
        "    },\n",
        "    {\n",
        "        \"role\": \"user\",\n",
        "        \"content\": assessment_output\n",
        "    }\n",
        "]\n",
        "\n",
        "treatment_response = client.run(agent=treatment_agent, messages=treatment_messages)\n",
        "treatment_output = treatment_response.messages[-1][\"content\"]\n",
        "print(\"Treatment Agent Output:\\n\", treatment_output)"
      ]
    },
    {
      "cell_type": "markdown",
      "metadata": {
        "id": "Bu9-8sqLMPs_"
      },
      "source": [
        "# Medication List Agent + RAG Model"
      ]
    },
    {
      "cell_type": "markdown",
      "metadata": {
        "id": "rUz5IN0bMTVQ"
      },
      "source": [
        "# Basic Prescription Writer Agent"
      ]
    },
    {
      "cell_type": "code",
      "execution_count": null,
      "metadata": {
        "id": "jnxFVwbBL_--"
      },
      "outputs": [],
      "source": []
    }
  ],
  "metadata": {
    "colab": {
      "provenance": []
    },
    "kernelspec": {
      "display_name": ".venv",
      "language": "python",
      "name": "python3"
    },
    "language_info": {
      "codemirror_mode": {
        "name": "ipython",
        "version": 3
      },
      "file_extension": ".py",
      "mimetype": "text/x-python",
      "name": "python",
      "nbconvert_exporter": "python",
      "pygments_lexer": "ipython3",
      "version": "3.12.0"
    }
  },
  "nbformat": 4,
  "nbformat_minor": 0
}
